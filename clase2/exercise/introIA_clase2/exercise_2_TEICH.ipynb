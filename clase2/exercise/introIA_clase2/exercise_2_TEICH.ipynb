{
 "cells": [
  {
   "cell_type": "markdown",
   "id": "9dc3793379ee6eb9",
   "metadata": {
    "collapsed": false,
    "jupyter": {
     "outputs_hidden": false
    }
   },
   "source": [
    "# Ejercicio Módulo 2\n",
    "**Inteligencia Artificial - CEIA - FIUBA**\n",
    "\n",
    "**TEICH JUAN IGNACIO**\n",
    "\n",
    "En este ejercicio deben implementar un algoritmo de búsqueda que no sea **Búsqueda Primero en Anchura (BFS)** para resolver el problema de la Torre de Hanoi. La nota máxima dependerá del algoritmo implementado:\n",
    "\n",
    "- **Búsqueda Primero en Profundidad**: nota máxima 6.\n",
    "- **Búsqueda de Costo Uniforme**: nota máxima 6.\n",
    "- **Búsqueda de Profundidad Limitada con Profundidad Iterativa**: nota máxima 7.\n",
    "- **Búsqueda Voraz usando la heurística dada en el aula virtual**: nota máxima 8.\n",
    "- **Búsqueda Voraz usando una heurística desarrollada por vos**: nota máxima 9.\n",
    "- **Búsqueda A\\* usando la heurística dada en el aula virtual**: nota máxima 9.\n",
    "- **Búsqueda A\\* usando una heurística desarrollada por vos**: nota máxima 10.\n",
    "\n",
    "La función debe devolver la salida correspondiente a la solución encontrada o `None si no se encontró una solución.\n",
    "\n",
    "Además, debe calcular métricas de rendimiento que, como mínimo, incluyan:\n",
    "\n",
    "- `solution_found`: `True` si se encontró la solución, `False` en caso contrario.\n",
    "- `nodes_explored`: cantidad de nodos explorados (entero).\n",
    "- `states_visited`: cantidad de estados distintos visitados (entero).\n",
    "- `nodes_in_frontier`: cantidad de nodos que quedaron en la frontera al finalizar la ejecución (entero).\n",
    "- `max_depth`: máxima profundidad explorada (entero).\n",
    "- `cost_total`: costo total para encontrar la solución (float)."
   ]
  },
  {
   "cell_type": "code",
   "execution_count": 1,
   "id": "d070f4f5-39ee-4081-85ab-ee2257ecd769",
   "metadata": {},
   "outputs": [],
   "source": [
    "from aima_libs.hanoi_states import ProblemHanoi, StatesHanoi\n",
    "from aima_libs.tree_hanoi import NodeHanoi"
   ]
  },
  {
   "cell_type": "markdown",
   "id": "f02e6828",
   "metadata": {},
   "source": [
    "**Heurística utilizada**. Esta heurísitica tiene 3 componentes que determinan el valor final de la función:\n",
    "- el costo del camino hasta ese nodo (a mayor costo mayor heurística)\n",
    "- la cantidad de discos grandes en el lugar correcto (a mayor cantidad de discos menor heurística)\n",
    "- la cantidad de discos que tiene encima el disco más grande fuera de lugar (a mayor cantidad de discos encima mayor heurística)\n",
    "\n",
    "De esta forma se cuantifica la distancia a la solución según que tan cerca están los discos que más movimientos previos requieren para ser llevados a su posición final."
   ]
  },
  {
   "cell_type": "code",
   "execution_count": 26,
   "id": "d58cc9fe-ab05-4ab5-8627-6687c42c558e",
   "metadata": {},
   "outputs": [],
   "source": [
    "def search_algorithm(number_disks=5) -> (NodeHanoi, dict):\n",
    "\n",
    "    # Edite esta linea para que la list_disk use a number_disks y no quede clavado en 5\n",
    "    list_disks = [i for i in range(number_disks, 0, -1)]\n",
    "    initial_state = StatesHanoi(list_disks, [], [], max_disks=number_disks)\n",
    "    goal_state = StatesHanoi([], [], list_disks, max_disks=number_disks)\n",
    "    problem = ProblemHanoi(initial=initial_state, goal=goal_state)\n",
    "\n",
    "    ##### EDITAR ESTA ZONA\n",
    "    # Inicializamos las salidas, pero reemplazar con lo que se quiera usar.\n",
    "    metrics = {\n",
    "        \"solution_found\": False,\n",
    "        \"nodes_explored\": None,\n",
    "        \"states_visited\": None,\n",
    "        \"nodes_in_frontier\": None,\n",
    "        \"max_depth\": None,\n",
    "        \"cost_total\": None,\n",
    "        \"nodes_repeated\": None,\n",
    "    }\n",
    "    # Heuristic function \n",
    "    def heuristicFunction(node: NodeHanoi):\n",
    "        value = node.path_cost\n",
    "        # List to find the location of each disk\n",
    "        locations = []\n",
    "        stateList = node.state.get_state()\n",
    "        for i in range(1,number_disks+1):\n",
    "            if i in stateList[0]:\n",
    "                locations.append(1)\n",
    "            elif i in stateList[1]:\n",
    "                locations.append(2)\n",
    "            elif i in stateList[2]:\n",
    "                locations.append(3)\n",
    "\n",
    "        rodBiggestDisk = 0\n",
    "        for i in range(number_disks, 0, -1):\n",
    "            # Go through disks and substract from heuristic if the biggests disks are in the correct location\n",
    "            criteria1 = False\n",
    "            if locations[i - 1] != 3:\n",
    "                criteria1 = True \n",
    "            elif criteria1:\n",
    "                value -= 6 - i\n",
    "                \n",
    "            # Find the biggest disk out of place, and add to the heuristic all the disks in that rod\n",
    "            if locations[i - 1] != 3:\n",
    "                rodBiggestDisk = locations[i - 1]\n",
    "                value += i\n",
    "                continue\n",
    "            if locations[i - 1] == rodBiggestDisk:\n",
    "                value += i\n",
    "\n",
    "        return value\n",
    "    \n",
    "    from queue import PriorityQueue\n",
    "    frontier = PriorityQueue()\n",
    "    visitedStates = [initial_state]\n",
    "    root = NodeHanoi(state=initial_state)\n",
    "    frontier.put((0,root))\n",
    "\n",
    "    # Search loop\n",
    "    nodesExplored = 0\n",
    "    nodesRepeated = 0\n",
    "    statesVisited = 1\n",
    "    while not metrics[\"solution_found\"]:\n",
    "        # Expand the first node in the priority\n",
    "        _, nodeToExpand = frontier.get()\n",
    "        newNodes = nodeToExpand.expand(problem)\n",
    "        # Consider this state visisted since it has been expanded and its children will be analyzed\n",
    "        visitedStates.append(nodeToExpand.state)\n",
    "        nodesExplored+= 1\n",
    "\n",
    "        for newNode in newNodes:\n",
    "            statesVisited += 1 # Since the state is checked it is considered visited\n",
    "            # Enter the nodes that have a state not yet visited only\n",
    "            if newNode.state not in visitedStates:\n",
    "                # Test if solution\n",
    "                if problem.goal_test(newNode.state):\n",
    "                    solution = newNode\n",
    "                    # print(f\"Found solution! Path is:\")\n",
    "                    # for nodes in solution.path():\n",
    "                    #     print(nodes.state)\n",
    "\n",
    "                    metrics[\"solution_found\"] = True\n",
    "                    metrics[\"nodes_explored\"] = nodesExplored\n",
    "                    metrics[\"states_visited\"] = statesVisited\n",
    "                    metrics[\"nodes_in_frontier\"] = len(frontier.queue)\n",
    "                    metrics[\"max_depth\"] = max([state.path_cost for _, state in frontier.queue])\n",
    "                    metrics[\"cost_total\"] = newNode.path_cost\n",
    "                    metrics[\"nodes_repeated\"] = nodesRepeated\n",
    "                \n",
    "                # If not solution: calculate heuristic function and add to frontier\n",
    "                newNodePriority = heuristicFunction(newNode) \n",
    "                frontier.put((newNodePriority, newNode))\n",
    "            else:\n",
    "                nodesRepeated += 1\n",
    "    # TODO: Completar con el algoritmo de búsqueda que desees implementar\n",
    "    #####\n",
    "\n",
    "    return solution, metrics"
   ]
  },
  {
   "cell_type": "markdown",
   "id": "5cd0daea-d105-410d-b575-98baf3118abb",
   "metadata": {},
   "source": [
    "Se prueba la función:"
   ]
  },
  {
   "cell_type": "code",
   "execution_count": 29,
   "id": "768cc0a3-c2d8-46a0-8008-8648e2858d0e",
   "metadata": {},
   "outputs": [
    {
     "name": "stdout",
     "output_type": "stream",
     "text": [
      "<Node HanoiState:  |  | 5 4 3 2 1> {'solution_found': True, 'nodes_explored': 234, 'states_visited': 701, 'nodes_in_frontier': 25, 'max_depth': 31.0, 'cost_total': 31.0, 'nodes_repeated': 441}\n"
     ]
    }
   ],
   "source": [
    "solution, metrics = search_algorithm(number_disks=5)\n",
    "print(solution, metrics)"
   ]
  },
  {
   "cell_type": "markdown",
   "id": "934d0e1b-1791-405f-a53d-0b834ccc5409",
   "metadata": {},
   "source": [
    "Veamos las métricas:"
   ]
  },
  {
   "cell_type": "code",
   "execution_count": 6,
   "id": "43657735-9e67-4931-a4fc-11db96b5735a",
   "metadata": {},
   "outputs": [
    {
     "name": "stdout",
     "output_type": "stream",
     "text": [
      "solution_found: True\n",
      "nodes_explored: 234\n",
      "states_visited: 701\n",
      "nodes_in_frontier: 25\n",
      "max_depth: 31.0\n",
      "cost_total: 31.0\n",
      "nodes_repeated: 441\n"
     ]
    }
   ],
   "source": [
    "for key, value in metrics.items():\n",
    "    print(f\"{key}: {value}\")"
   ]
  },
  {
   "cell_type": "markdown",
   "id": "32deebf6-2ab1-4573-9aaf-9add84c2939f",
   "metadata": {},
   "source": [
    "Veamos el camino de estados desde el principio a la solución:"
   ]
  },
  {
   "cell_type": "code",
   "execution_count": 7,
   "id": "7c398df5-9dc4-4fae-9181-308f859f2835",
   "metadata": {},
   "outputs": [
    {
     "name": "stdout",
     "output_type": "stream",
     "text": [
      "<Node HanoiState: 5 4 3 2 1 |  | >\n",
      "<Node HanoiState: 5 4 3 2 |  | 1>\n",
      "<Node HanoiState: 5 4 3 | 2 | 1>\n",
      "<Node HanoiState: 5 4 3 | 2 1 | >\n",
      "<Node HanoiState: 5 4 | 2 1 | 3>\n",
      "<Node HanoiState: 5 4 1 | 2 | 3>\n",
      "<Node HanoiState: 5 4 1 |  | 3 2>\n",
      "<Node HanoiState: 5 4 |  | 3 2 1>\n",
      "<Node HanoiState: 5 | 4 | 3 2 1>\n",
      "<Node HanoiState: 5 | 4 1 | 3 2>\n",
      "<Node HanoiState: 5 2 | 4 1 | 3>\n",
      "<Node HanoiState: 5 2 1 | 4 | 3>\n",
      "<Node HanoiState: 5 2 1 | 4 3 | >\n",
      "<Node HanoiState: 5 2 | 4 3 | 1>\n",
      "<Node HanoiState: 5 | 4 3 2 | 1>\n",
      "<Node HanoiState: 5 | 4 3 2 1 | >\n",
      "<Node HanoiState:  | 4 3 2 1 | 5>\n",
      "<Node HanoiState: 1 | 4 3 2 | 5>\n",
      "<Node HanoiState: 1 | 4 3 | 5 2>\n",
      "<Node HanoiState:  | 4 3 | 5 2 1>\n",
      "<Node HanoiState: 3 | 4 | 5 2 1>\n",
      "<Node HanoiState: 3 | 4 1 | 5 2>\n",
      "<Node HanoiState: 3 2 | 4 1 | 5>\n",
      "<Node HanoiState: 3 2 1 | 4 | 5>\n",
      "<Node HanoiState: 3 2 1 |  | 5 4>\n",
      "<Node HanoiState: 3 2 |  | 5 4 1>\n",
      "<Node HanoiState: 3 | 2 | 5 4 1>\n",
      "<Node HanoiState: 3 | 2 1 | 5 4>\n",
      "<Node HanoiState:  | 2 1 | 5 4 3>\n",
      "<Node HanoiState: 1 | 2 | 5 4 3>\n",
      "<Node HanoiState: 1 |  | 5 4 3 2>\n",
      "<Node HanoiState:  |  | 5 4 3 2 1>\n"
     ]
    }
   ],
   "source": [
    "for nodos in solution.path():\n",
    "    print(nodos)"
   ]
  },
  {
   "cell_type": "markdown",
   "id": "11d79725-95ec-4806-be05-ac0522e49afe",
   "metadata": {},
   "source": [
    "Y las acciones que el agente debería aplicar para llegar al objetivo:"
   ]
  },
  {
   "cell_type": "code",
   "execution_count": 8,
   "id": "9c7f1421-be80-45b8-8336-7afe2c2b1ad7",
   "metadata": {},
   "outputs": [
    {
     "name": "stdout",
     "output_type": "stream",
     "text": [
      "Move disk 1 from 1 to 3\n",
      "Move disk 2 from 1 to 2\n",
      "Move disk 1 from 3 to 2\n",
      "Move disk 3 from 1 to 3\n",
      "Move disk 1 from 2 to 1\n",
      "Move disk 2 from 2 to 3\n",
      "Move disk 1 from 1 to 3\n",
      "Move disk 4 from 1 to 2\n",
      "Move disk 1 from 3 to 2\n",
      "Move disk 2 from 3 to 1\n",
      "Move disk 1 from 2 to 1\n",
      "Move disk 3 from 3 to 2\n",
      "Move disk 1 from 1 to 3\n",
      "Move disk 2 from 1 to 2\n",
      "Move disk 1 from 3 to 2\n",
      "Move disk 5 from 1 to 3\n",
      "Move disk 1 from 2 to 1\n",
      "Move disk 2 from 2 to 3\n",
      "Move disk 1 from 1 to 3\n",
      "Move disk 3 from 2 to 1\n",
      "Move disk 1 from 3 to 2\n",
      "Move disk 2 from 3 to 1\n",
      "Move disk 1 from 2 to 1\n",
      "Move disk 4 from 2 to 3\n",
      "Move disk 1 from 1 to 3\n",
      "Move disk 2 from 1 to 2\n",
      "Move disk 1 from 3 to 2\n",
      "Move disk 3 from 1 to 3\n",
      "Move disk 1 from 2 to 1\n",
      "Move disk 2 from 2 to 3\n",
      "Move disk 1 from 1 to 3\n"
     ]
    }
   ],
   "source": [
    "for act in solution.solution():\n",
    "    print(act)"
   ]
  }
 ],
 "metadata": {
  "kernelspec": {
   "display_name": "intro-ia",
   "language": "python",
   "name": "python3"
  },
  "language_info": {
   "codemirror_mode": {
    "name": "ipython",
    "version": 3
   },
   "file_extension": ".py",
   "mimetype": "text/x-python",
   "name": "python",
   "nbconvert_exporter": "python",
   "pygments_lexer": "ipython3",
   "version": "3.11.13"
  }
 },
 "nbformat": 4,
 "nbformat_minor": 5
}
